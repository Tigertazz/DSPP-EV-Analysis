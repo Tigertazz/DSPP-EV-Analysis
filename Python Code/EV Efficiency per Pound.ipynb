{
 "cells": [
  {
   "cell_type": "code",
   "execution_count": 10,
   "metadata": {},
   "outputs": [],
   "source": [
    "import pandas as pd\n",
    "\n",
    "# Load the dataset\n",
    "file_path = 'C:\\\\Users\\\\HUCC\\\\Downloads\\\\cars_data_RAW (1).csv'\n",
    "df = pd.read_csv(file_path)\n",
    "\n",
    "# Rename columns for better readability\n",
    "df.columns = [\n",
    "    'Row_ID', 'Title', 'Model', 'Battery', 'Price_Range', '0-100_Acceleration',\n",
    "    'Top_Speed', 'Range', 'Efficiency', 'Fastcharge', 'Germany_Price', \n",
    "    'Netherlands_Price', 'UK_Price', 'Drive_Configuration', 'Tow_Hitch', \n",
    "    'Towing_Capacity', 'Number_of_Seats'\n",
    "]\n",
    "\n",
    "# Clean the 'Range' column to ensure numeric values and convert from KM to MI\n",
    "df['Range'] = df['Range'].str.extract('(\\d+)').astype(float) * 0.621371\n",
    "\n",
    "# Number of different models by each manufacturer\n",
    "model_count = df.groupby('Title')['Model'].nunique()\n",
    "\n",
    "# Average battery capacity for each manufacturer\n",
    "avg_battery_capacity = df.groupby('Title')['Battery'].mean()\n",
    "\n",
    "def clean_currency(value):\n",
    "    if isinstance(value, str):\n",
    "        value = value.replace('€', '').replace('£', '').replace(',', '').replace('*', '').strip()\n",
    "        try:\n",
    "            return float(value)\n",
    "        except ValueError:\n",
    "            return pd.NA\n",
    "    elif isinstance(value,(int, float)):\n",
    "        return value\n",
    "    else:\n",
    "        pd.NA\n",
    "\n",
    "\n",
    "# Average cost for each manufacturer\n",
    "df['UK_Price'] = df['UK_Price'].apply(clean_currency)\n",
    "\n",
    "avg_cost = df.groupby('Title')['UK_Price'].mean()\n",
    "\n",
    "# Average mileage (Range) for each manufacturer\n",
    "avg_mileage = df.groupby('Title')['Range'].mean()\n",
    "\n",
    "# Average miles per kWh (Effciency) for each manufacturer\n",
    "mi_kwh = avg_mileage/avg_battery_capacity\n",
    "\n",
    "# Effciency vs Cost\n",
    "ef_v_cost = avg_cost/mi_kwh\n",
    "\n",
    "# Combine all results into a single DataFrame for better readability\n",
    "results = pd.DataFrame({\n",
    "    'Model Count': model_count,\n",
    "    'Average Battery Capacity': avg_battery_capacity,\n",
    "    'Average Cost': avg_cost,\n",
    "    'Average Mileage': avg_mileage,\n",
    "    'Average Mi/kWh':mi_kwh,\n",
    "    'Effciency vs Cost':ef_v_cost\n",
    "}).reset_index()\n",
    "\n",
    "results = results.dropna(subset=['Average Cost'])\n",
    "\n",
    "#export the file for better more effcient visualisations in PBIX\n",
    "file_path = \"C:\\\\Users\\\\HUCC\\\\OneDrive - Direct Line Group\\\\Apprenticeship Work\\\\Term 3\\\\Data Science, M5, Data Professional Practice\\\\Public Data\\\\\"\n",
    "filname = \"Electric Car Analysis.xlsx\"\n",
    "\n",
    "results.to_excel(file_path+filname,index=False)"
   ]
  }
 ],
 "metadata": {
  "kernelspec": {
   "display_name": "Python 3.10.9 64-bit",
   "language": "python",
   "name": "python3"
  },
  "language_info": {
   "codemirror_mode": {
    "name": "ipython",
    "version": 3
   },
   "file_extension": ".py",
   "mimetype": "text/x-python",
   "name": "python",
   "nbconvert_exporter": "python",
   "pygments_lexer": "ipython3",
   "version": "3.10.9"
  },
  "orig_nbformat": 4,
  "vscode": {
   "interpreter": {
    "hash": "26de051ba29f2982a8de78e945f0abaf191376122a1563185a90213a26c5da77"
   }
  }
 },
 "nbformat": 4,
 "nbformat_minor": 2
}
